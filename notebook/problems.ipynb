{
    "cells": [
        {
            "cell_type": "markdown",
            "id": "ac622319",
            "metadata": {},
            "source": [
                "# Descriptive statistics problems"
            ]
        },
        {
            "cell_type": "markdown",
            "id": "5e0ab0d5",
            "metadata": {},
            "source": [
                "### Exercise 1\n",
                "\n",
                "We will use NumPy to obtain information to describe statistically.\n",
                "\n",
                "- Generate an array of 100 elements following a normal distribution.\n",
                "- Generate an array of 100 elements following a chi-square distribution with 3 degrees of freedom.\n",
                "- Calculate the main metrics and statistical measures that best describe the two vectors."
            ]
        },
        {
            "cell_type": "code",
            "execution_count": 13,
            "id": "745fa11c",
            "metadata": {},
            "outputs": [
                {
                    "data": {
                        "image/png": "[encoded data removed]",
                        "text/plain": [
                            "<Figure size 640x480 with 1 Axes>"
                        ]
                    },
                    "metadata": {},
                    "output_type": "display_data"
                }
            ],
            "source": [
                "import numpy as np\n",
                "import matplotlib.pyplot as plt\n",
                "\n",
                "# Set mean and standard deviation for the normal distribution\n",
                "mean = 0\n",
                "std_dev = 1\n",
                "\n",
                "# Generate the array of 100 elements following a normal distribution\n",
                "array = np.random.normal(mean, std_dev, 100)\n",
                "normal_mean = np.mean(array)\n",
                "normal_mode = mode(array)\n",
                "normal_median = np.median(array)\n",
                "normal_maximum = np.max(array)\n",
                "normal_minimum = np.min(array)\n",
                "normal_std = np.var(array)\n",
                "percentiles = np.percentile(array, [25, 50, 75])\n",
                "\n",
                "\n",
                "\n",
                "# Create histogram\n",
                "plt.hist(array, bins=20, density=True, alpha=0.6, color='g')\n",
                "\n",
                "# Add a title and labels\n",
                "plt.title('Histogram of Normal Distribution')\n",
                "plt.xlabel('Value')\n",
                "plt.ylabel('Frequency')\n",
                "\n",
                "# Add a grid\n",
                "plt.grid(True)\n",
                "\n",
                "# Show the plot\n",
                "plt.show()\n",
                "\n",
                "\n"
            ]
        },
        {
            "cell_type": "code",
            "execution_count": 8,
            "id": "df0ca1ca",
            "metadata": {},
            "outputs": [],
            "source": [
                "import numpy as np\n",
                "from scipy.stats import mode\n",
                "\n",
                "# Set degrees of freedom for the chi-square distribution\n",
                "df = 3\n",
                "\n",
                "# Generate the array of 100 elements following a chi-square distribution\n",
                "array = np.random.chisquare(df, 100)\n",
                "\n",
                "chi_mean = np.mean(array)\n",
                "chi_mode = mode(array)\n",
                "chi_median = np.median(array)\n",
                "chi_maximum = np.max(array)\n",
                "chi_minimum = np.min(array)\n",
                "chi_std = np.var(array)\n",
                "percentiles = np.percentile(array, [25, 50, 75])"
            ]
        },
        {
            "cell_type": "markdown",
            "id": "46c70c3d",
            "metadata": {},
            "source": [
                "### Exercise 2\n",
                "\n",
                "Write a Python program to calculate the standard deviation of the following data:\n",
                "\n",
                "```py\n",
                "data = [4, 2, 5, 8, 6]\n",
                "```"
            ]
        },
        {
            "cell_type": "code",
            "execution_count": 26,
            "id": "d590308e",
            "metadata": {},
            "outputs": [
                {
                    "name": "stdout",
                    "output_type": "stream",
                    "text": [
                        "2.23606797749979\n"
                    ]
                }
            ],
            "source": [
                "# TODO\n",
                "\n",
                "import numpy as np\n",
                "\n",
                "data = [4, 2, 5, 8, 6]\n",
                "mean = np.mean(data)\n",
                "\n",
                "s = np.sum((data - mean) ** 2) \n",
                "sample = s / (len(data) - 1)\n",
                "print(np.sqrt(sample))\n",
                "\n"
            ]
        }
    ],
    "metadata": {
        "interpreter": {
            "hash": "9248718ffe6ce6938b217e69dbcc175ea21f4c6b28a317e96c05334edae734bb"
        },
        "kernelspec": {
            "display_name": "Python 3.9.12 ('ML-BOOTCAMP')",
            "language": "python",
            "name": "python3"
        },
        "language_info": {
            "codemirror_mode": {
                "name": "ipython",
                "version": 3
            },
            "file_extension": ".py",
            "mimetype": "text/x-python",
            "name": "python",
            "nbconvert_exporter": "python",
            "pygments_lexer": "ipython3",
            "version": "3.11.4"
        }
    },
    "nbformat": 4,
    "nbformat_minor": 5
}
